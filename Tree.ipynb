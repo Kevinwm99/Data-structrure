{
 "cells": [
  {
   "cell_type": "markdown",
   "metadata": {},
   "source": [
    "## problem 2\n",
    "        0\n",
    "       / \\\n",
    "      1   3\n",
    "          |\n",
    "          4\n",
    "          |\n",
    "          2\n",
    "Take advantage of the fact that the labels for each tree node are integers in the range 0..𝑛−1:\n",
    "you can store each node in an array whose index is the label of the node. By storing the nodes in an array,\n",
    "you have 𝑂(1) access to any node given its label.\n",
    "\n",
    "    allocate 𝑛𝑜𝑑𝑒𝑠[𝑛]\n",
    "    for 𝑖 ← 0 to 𝑛 − 1:\n",
    "        𝑛𝑜𝑑𝑒𝑠[𝑖] =new 𝑁𝑜𝑑𝑒\n",
    "        \n",
    "Then, read each parent index: \n",
    "\n",
    "    for 𝑐ℎ𝑖𝑙𝑑_𝑖𝑛𝑑𝑒𝑥 ← 0 to 𝑛 − 1:\n",
    "        read 𝑝𝑎𝑟𝑒𝑛𝑡_𝑖𝑛𝑑𝑒𝑥\n",
    "        if 𝑝𝑎𝑟𝑒𝑛𝑡_𝑖𝑛𝑑𝑒𝑥 == −1:\n",
    "            𝑟𝑜𝑜𝑡 ← 𝑐ℎ𝑖𝑙𝑑_𝑖𝑛𝑑𝑒𝑥\n",
    "        else:\n",
    "            𝑛𝑜𝑑𝑒𝑠[𝑝𝑎𝑟𝑒𝑛𝑡_𝑖𝑛𝑑𝑒𝑥].𝑎𝑑𝑑𝐶ℎ𝑖𝑙𝑑(𝑛𝑜𝑑𝑒𝑠[𝑐ℎ𝑖𝑙𝑑_𝑖𝑛𝑑𝑒𝑥])\n",
    "            \n",
    "Once you’ve built the tree, you’ll then need to compute its height. If you don’t use recursion, you needn’t\n",
    "worry about stack overflow problems. Without recursion, you’ll need some auxiliary data structure to keep\n",
    "track of the current state (in the breadth-first seach code in lecture, for example, we used a queue).\n"
   ]
  },
  {
   "source": [
    "## My approadch:\n",
    "\n",
    "Firstly, I create a tree representation from the given list by the following intituions:\n",
    " - Given n = number of node in the tree, I create a list which contains n sublists for each node's children. For example:\n",
    "    tree = [\\[child1, child2,..\\],\\[child3, child4, ...\\],\\[\\],\\[child5, child6\\],....\\]\n",
    "    where empty list indicate that the node has no child\n",
    "\n",
    " - We know that the value of each node in the tree is unique and range from 0 to n-1 and the parent of nodes list can be varied. So we will scan through this parent list from i to n-1, if the value of it at index i is -1, we will set the variable tree_root_idx to the index we are scanning. Otherwise, we will add the parent's index to our list\n",
    "\n",
    "Follow the above instructions, we have the representation of the desired tree, where the list tree contains all the lists of parent node and the indexes of each list is the value of that node.\n",
    "\n",
    " - for example the below tree:\n",
    "\n",
    " \n",
    "       0\n",
    "      / \\\n",
    "     1   3\n",
    "         |\n",
    "         4\n",
    "         |\n",
    "         2\n",
    "represent by:\n",
    "\n",
    "   tree = [\\[ \\], \\[0\\], \\[4\\], \\[0\\], \\[3\\]\\], tree_root_idx = 0\n"
   ],
   "cell_type": "markdown",
   "metadata": {}
  },
  {
   "cell_type": "code",
   "execution_count": 1,
   "metadata": {},
   "outputs": [],
   "source": [
    "import import_ipynb\n",
    "import time"
   ]
  },
  {
   "cell_type": "code",
   "execution_count": 2,
   "metadata": {},
   "outputs": [],
   "source": [
    "class queue(object):\n",
    "    def __init__(self):\n",
    "        self.items=[]\n",
    "        self.item =0\n",
    "    def enqueue(self,val):\n",
    "        self.items.append(val)\n",
    "        print(\"current queue elements is: \",self.items)\n",
    "    def dequeue(self):\n",
    "        if self.isEmpty(): print(\"cannot dequeue, queue is empty\")\n",
    "        else:\n",
    "            item = (self.items.pop(0))\n",
    "            print(\"element pop\", item)\n",
    "            print(\"remaining elements: \",self.items)\n",
    "        return item\n",
    "    def __len__(self):\n",
    "        return len(self.items)\n",
    "    def isEmpty(self):\n",
    "        return self.items==[]"
   ]
  },
  {
   "cell_type": "code",
   "execution_count": 3,
   "metadata": {},
   "outputs": [],
   "source": [
    "class tree:\n",
    "    def __init__(self,num_node=0,parrent_index=[]):\n",
    "        self.num_node = num_node       \n",
    "        self.parrent_index=parrent_index \n",
    "        self.tree=[]\n",
    "        self.tree_root_idx=0\n",
    "        self.tree_height=1\n",
    "        self.q=0\n",
    "        self.start=0\n",
    "        self.end=0\n",
    "        for i in range(num_node):\n",
    "            self.tree.append([])\n",
    "        for i in range(num_node):\n",
    "            if self.parrent_index[i]==-1:\n",
    "                self.tree_root_idx=i\n",
    "            else:\n",
    "                self.tree[self.parrent_index[i]].append(i)\n",
    "            \n",
    "    def show_tree(self):\n",
    "        print(\"root index: \",self.tree_root_idx )\n",
    "        print(self.tree)\n",
    "    def bfs(self):\n",
    "        self.start = time.time()\n",
    "        self.q=queue()\n",
    "        for i in self.tree[self.tree_root_idx]:\n",
    "            self.q.enqueue(i)\n",
    "        while (1):\n",
    "            count=len(self.q) #count the number of node on each level\n",
    "            if self.q.isEmpty():\n",
    "                self.end = time.time()\n",
    "                print(self.end-self.start)\n",
    "                return self.tree_height\n",
    "            self.tree_height+=1\n",
    "            while(count>0): # when count = 0, it mean that there is no element left in particular level\n",
    "                node = self.q.dequeue()\n",
    "                if self.tree[node]!=[]:\n",
    "                    for k in self.tree[node]:\n",
    "                        self.q.enqueue(k) \n",
    "                count-=1\n"
   ]
  },
  {
   "cell_type": "code",
   "execution_count": 4,
   "metadata": {},
   "outputs": [],
   "source": [
    "n,t=open(\"D:/uni/first sem/data structure/week1_basic_data_structures/2_tree_height/tests/22\",\"r\")\n",
    "n=int(n.split()[0])\n",
    "t=list(map(int,t.split()))"
   ]
  },
  {
   "cell_type": "code",
   "execution_count": 39,
   "metadata": {},
   "outputs": [],
   "source": [
    "n=9\n",
    "t=[-1, 0 ,0 ,0, 0,1,1,3,3]\n",
    "# n=5\n",
    "# t=[4, -1, 4, 1 ,1]\n"
   ]
  },
  {
   "cell_type": "code",
   "execution_count": 40,
   "metadata": {},
   "outputs": [],
   "source": [
    "t= tree(n,t)"
   ]
  },
  {
   "cell_type": "code",
   "execution_count": 41,
   "metadata": {
    "tags": []
   },
   "outputs": [
    {
     "output_type": "stream",
     "name": "stdout",
     "text": "current queue elements is:  [1]\ncurrent queue elements is:  [1, 2]\ncurrent queue elements is:  [1, 2, 3]\ncurrent queue elements is:  [1, 2, 3, 4]\nelement pop 1\nremaining elements:  [2, 3, 4]\ncurrent queue elements is:  [2, 3, 4, 5]\ncurrent queue elements is:  [2, 3, 4, 5, 6]\nelement pop 2\nremaining elements:  [3, 4, 5, 6]\nelement pop 3\nremaining elements:  [4, 5, 6]\ncurrent queue elements is:  [4, 5, 6, 7]\ncurrent queue elements is:  [4, 5, 6, 7, 8]\nelement pop 4\nremaining elements:  [5, 6, 7, 8]\nelement pop 5\nremaining elements:  [6, 7, 8]\nelement pop 6\nremaining elements:  [7, 8]\nelement pop 7\nremaining elements:  [8]\nelement pop 8\nremaining elements:  []\n0.0\n"
    },
    {
     "output_type": "execute_result",
     "data": {
      "text/plain": "3"
     },
     "metadata": {},
     "execution_count": 41
    }
   ],
   "source": [
    "t.bfs()"
   ]
  },
  {
   "cell_type": "code",
   "execution_count": null,
   "metadata": {},
   "outputs": [],
   "source": []
  }
 ],
 "metadata": {
  "kernelspec": {
   "display_name": "Python 3.6.10 64-bit ('phu': conda)",
   "language": "python",
   "name": "python_defaultSpec_1600510174955"
  },
  "language_info": {
   "codemirror_mode": {
    "name": "ipython",
    "version": 3
   },
   "file_extension": ".py",
   "mimetype": "text/x-python",
   "name": "python",
   "nbconvert_exporter": "python",
   "pygments_lexer": "ipython3",
   "version": "3.6.10-final"
  }
 },
 "nbformat": 4,
 "nbformat_minor": 2
}