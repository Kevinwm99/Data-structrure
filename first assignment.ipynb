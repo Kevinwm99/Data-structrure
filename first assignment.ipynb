{
 "cells": [
  {
   "cell_type": "code",
   "execution_count": 160,
   "metadata": {},
   "outputs": [],
   "source": [
    "def check_bracket(strg):\n",
    "    b=list(strg)                           # turn string into list\n",
    "    stack_for_open=[]                      # stack for opening bracket/brace/paren\n",
    "    stack_for_error_index=[]               # stack for error opening bracket/brace/paren's index \n",
    "    error=0                                # trace error\n",
    "    error_left=[]                          # stack for remaining opening bracket/brace/paren's index \n",
    "    count = 1                              # trace index for error\n",
    "    for i in b:\n",
    "        stack_for_error_index.append(count)\n",
    "        if (i == '(' or i == '[' or i== '{'):\n",
    "            error_left.append(count)\n",
    "            stack_for_open.append(i)    \n",
    "        elif i == ')':\n",
    "            if not stack_for_open: \n",
    "                print('error, without an open paren ')\n",
    "                error+=1\n",
    "                print(stack_for_error_index.pop())\n",
    "                break\n",
    "            l=ord(stack_for_open.pop())\n",
    "            if l!=40:\n",
    "                print(\"error, unmatched paren \")\n",
    "                error+=1\n",
    "                print(stack_for_error_index.pop())\n",
    "                break\n",
    "            else:\n",
    "                error_left.pop()\n",
    "        elif i == ']':\n",
    "            if not stack_for_open: \n",
    "                print('error, without an open barcket ')\n",
    "                error+=1\n",
    "                print(stack_for_error_index.pop())\n",
    "                break        \n",
    "            l=ord(stack_for_open.pop())                                  \n",
    "            if l!=91:\n",
    "                print(\"error, unmatched bracket\")\n",
    "                error+=1\n",
    "                print(stack_for_error_index.pop())\n",
    "                break\n",
    "            else:\n",
    "                error_left.pop()\n",
    "        elif i == '}':\n",
    "            if not stack_for_open: \n",
    "                print('error, without an open brace ')\n",
    "                error+=1\n",
    "                print(stack_for_error_index.pop())\n",
    "                break        \n",
    "            l=ord(stack_for_open.pop())\n",
    "            if l!=123:\n",
    "                print(\"error, unmatched brace\")\n",
    "                error+=1\n",
    "                print(stack_for_error_index.pop())\n",
    "                break\n",
    "            else:\n",
    "                error_left.pop()\n",
    "        count+=1\n",
    "\n",
    "    if stack_for_open:\n",
    "        l=ord(stack_for_open.pop())\n",
    "        if l==123:\n",
    "            print(\"error, without a closed brace\")\n",
    "            print(error_left.pop())\n",
    "        elif l==40:\n",
    "            print(\"error, without a closed paren\")\n",
    "            print(error_left.pop())\n",
    "        elif l==91:\n",
    "            print(\"error, without a closed bracket\")\n",
    "            print(error_left.pop())\n",
    "    else:\n",
    "        if error==0:\n",
    "            print(\"success\")"
   ]
  },
  {
   "cell_type": "code",
   "execution_count": 163,
   "metadata": {},
   "outputs": [],
   "source": [
    "a= \"000(f)o{o}(bari)\""
   ]
  },
  {
   "cell_type": "code",
   "execution_count": 164,
   "metadata": {},
   "outputs": [
    {
     "name": "stdout",
     "output_type": "stream",
     "text": [
      "success\n"
     ]
    }
   ],
   "source": [
    "check_bracket(a)"
   ]
  },
  {
   "cell_type": "code",
   "execution_count": 158,
   "metadata": {},
   "outputs": [],
   "source": [
    "b=list(a)"
   ]
  },
  {
   "cell_type": "code",
   "execution_count": 156,
   "metadata": {},
   "outputs": [
    {
     "name": "stdout",
     "output_type": "stream",
     "text": [
      "error, without a closed brace\n",
      "8\n"
     ]
    }
   ],
   "source": [
    "k=[]\n",
    "k1=[]\n",
    "error=0\n",
    "_index=0\n",
    "error_left=[]\n",
    "count = 1\n",
    "for i in b:\n",
    "    k1.append(count)\n",
    "    if (i == '(' or i == '[' or i== '{'):\n",
    "        error_left.append(count)\n",
    "        k.append(i)    \n",
    "    elif i == ')':\n",
    "        if not k: \n",
    "            print('error, without an open paren ')\n",
    "            error+=1\n",
    "            print(k1.pop())\n",
    "            break\n",
    "        l=ord(k.pop())\n",
    "        if l!=40:\n",
    "            print(\"error, unmatched paren \")\n",
    "            error+=1\n",
    "            print(k1.pop())\n",
    "            break\n",
    "        else:\n",
    "            error_left.pop()\n",
    "    elif i == ']':\n",
    "        if not k: \n",
    "            print('error, without an open barcket ')\n",
    "            error+=1\n",
    "            print(k1.pop())\n",
    "            break        \n",
    "        l=(k.pop())\n",
    "        l=ord(l)\n",
    "        if l!=91:\n",
    "            print(\"error, unmatched bracket\")\n",
    "            error+=1\n",
    "            print(k1.pop())\n",
    "            break\n",
    "        else:\n",
    "            error_left.pop()\n",
    "    elif i == '}':\n",
    "        if not k: \n",
    "            print('error, without an open brace ')\n",
    "            error+=1\n",
    "            print(k1.pop())\n",
    "            break        \n",
    "        l=(k.pop())\n",
    "        l=ord(l)\n",
    "        if l!=123:\n",
    "            print(\"error, unmatched brace\")\n",
    "            error+=1\n",
    "            print(k1.pop())\n",
    "            break\n",
    "        else:\n",
    "            error_left.pop()\n",
    "    count+=1\n",
    "            \n",
    "if k:\n",
    "    l=ord(k.pop())\n",
    "    if l==123:\n",
    "        print(\"error, without a closed brace\")\n",
    "        print(error_left.pop())\n",
    "    elif l==40:\n",
    "        print(\"error, without a closed paren\")\n",
    "        print(error_left.pop())\n",
    "    elif l==91:\n",
    "        print(\"error, without a closed bracket\")\n",
    "        print(error_left.pop())\n",
    "else:\n",
    "    if error==0:\n",
    "        print(\"success\")"
   ]
  },
  {
   "cell_type": "code",
   "execution_count": 159,
   "metadata": {},
   "outputs": [
    {
     "name": "stdout",
     "output_type": "stream",
     "text": [
      "error, without a closed brace\n",
      "8\n"
     ]
    }
   ],
   "source": [
    "b=list(a)                           # turn string into list\n",
    "stack_for_open=[]                      # stack for opening bracket/brace/paren\n",
    "stack_for_error_index=[]               # stack for error opening bracket/brace/paren's index \n",
    "error=0                                # trace error\n",
    "error_left=[]                          # stack for remaining opening bracket/brace/paren's index \n",
    "count = 1                              # trace index\n",
    "for i in b:\n",
    "    stack_for_error_index.append(count)\n",
    "    if (i == '(' or i == '[' or i== '{'):\n",
    "        error_left.append(count)\n",
    "        stack_for_open.append(i)    \n",
    "    elif i == ')':\n",
    "        if not stack_for_open: \n",
    "            print('error, without an open paren ')\n",
    "            error+=1\n",
    "            print(stack_for_error_index.pop())\n",
    "            break\n",
    "        l=ord(stack_for_open.pop())\n",
    "        if l!=40:\n",
    "            print(\"error, unmatched paren \")\n",
    "            error+=1\n",
    "            print(stack_for_error_index.pop())\n",
    "            break\n",
    "        else:\n",
    "            error_left.pop()\n",
    "    elif i == ']':\n",
    "        if not stack_for_open: \n",
    "            print('error, without an open barcket ')\n",
    "            error+=1\n",
    "            print(stack_for_error_index.pop())\n",
    "            break        \n",
    "        l=(stack_for_open.pop())\n",
    "        l=ord(l)\n",
    "        if l!=91:\n",
    "            print(\"error, unmatched bracket\")\n",
    "            error+=1\n",
    "            print(stack_for_error_index.pop())\n",
    "            break\n",
    "        else:\n",
    "            error_left.pop()\n",
    "    elif i == '}':\n",
    "        if not stack_for_open: \n",
    "            print('error, without an open brace ')\n",
    "            error+=1\n",
    "            print(stack_for_error_index.pop())\n",
    "            break        \n",
    "        l=(stack_for_open.pop())\n",
    "        l=ord(l)\n",
    "        if l!=123:\n",
    "            print(\"error, unmatched brace\")\n",
    "            error+=1\n",
    "            print(stack_for_error_index.pop())\n",
    "            break\n",
    "        else:\n",
    "            error_left.pop()\n",
    "    count+=1\n",
    "\n",
    "if stack_for_open:\n",
    "    l=ord(stack_for_open.pop())\n",
    "    if l==123:\n",
    "        print(\"error, without a closed brace\")\n",
    "        print(error_left.pop())\n",
    "    elif l==40:\n",
    "        print(\"error, without a closed paren\")\n",
    "        print(error_left.pop())\n",
    "    elif l==91:\n",
    "        print(\"error, without a closed bracket\")\n",
    "        print(error_left.pop())\n",
    "else:\n",
    "    if error==0:\n",
    "        print(\"success\")"
   ]
  },
  {
   "cell_type": "code",
   "execution_count": 153,
   "metadata": {},
   "outputs": [
    {
     "data": {
      "text/plain": [
       "[8]"
      ]
     },
     "execution_count": 153,
     "metadata": {},
     "output_type": "execute_result"
    }
   ],
   "source": [
    "error_left"
   ]
  },
  {
   "cell_type": "code",
   "execution_count": 87,
   "metadata": {},
   "outputs": [],
   "source": [
    "if k:\n",
    "    print(\"not\")"
   ]
  },
  {
   "cell_type": "code",
   "execution_count": 16,
   "metadata": {},
   "outputs": [
    {
     "name": "stdout",
     "output_type": "stream",
     "text": [
      "<class 'list'>\n"
     ]
    }
   ],
   "source": [
    "print(type(a.split()))"
   ]
  }
 ],
 "metadata": {
  "kernelspec": {
   "display_name": "Python 3",
   "language": "python",
   "name": "python3"
  },
  "language_info": {
   "codemirror_mode": {
    "name": "ipython",
    "version": 3
   },
   "file_extension": ".py",
   "mimetype": "text/x-python",
   "name": "python",
   "nbconvert_exporter": "python",
   "pygments_lexer": "ipython3",
   "version": "3.8.3"
  }
 },
 "nbformat": 4,
 "nbformat_minor": 4
}
