{
 "metadata": {
  "language_info": {
   "codemirror_mode": {
    "name": "ipython",
    "version": 3
   },
   "file_extension": ".py",
   "mimetype": "text/x-python",
   "name": "python",
   "nbconvert_exporter": "python",
   "pygments_lexer": "ipython3",
   "version": "3.6.10-final"
  },
  "orig_nbformat": 2,
  "kernelspec": {
   "name": "python_defaultSpec_1600435866934",
   "display_name": "Python 3.6.10 64-bit ('phu': conda)"
  }
 },
 "nbformat": 4,
 "nbformat_minor": 2,
 "cells": [
  {
   "cell_type": "code",
   "execution_count": 28,
   "metadata": {},
   "outputs": [],
   "source": [
    "class Stack:\n",
    "    def __init__(self):\n",
    "        self.items=[]\n",
    "    def isEmpty(self):\n",
    "        return self.items ==[]\n",
    "    def push(self,item):\n",
    "        self.items.append(item)\n",
    "        print(self.items[-1])\n",
    "    def pop(self):\n",
    "        if self.isEmpty():\n",
    "            print(\"cannot pop, Stack is empty\")\n",
    "        else:\n",
    "            self.items.pop()\n",
    "    def size(self):\n",
    "        return len(self.items)\n",
    "    def top(self):\n",
    "        return len(self.items)-1\n",
    "    def print_stack(self):\n",
    "        print(self.items)\n"
   ]
  },
  {
   "cell_type": "code",
   "execution_count": 2,
   "metadata": {},
   "outputs": [],
   "source": [
    "class queue:\n",
    "    def __init__(self):\n",
    "        self.items=[]\n",
    "        self.item =0\n",
    "    def enqueue(self,val):\n",
    "        self.items.append(val)\n",
    "        print(\"current queue elements is: \",self.items)\n",
    "    def dequeue(self):\n",
    "        if self.isEmpty(): print(\"cannot dequeue, queue is empty\")\n",
    "        else:\n",
    "            item = (self.items.pop(0))\n",
    "            print(\"element pop\", item)\n",
    "            print(\"remaining elements: \",self.items)\n",
    "        return \n",
    "    def isEmpty(self):\n",
    "        return self.items==[]\n",
    "        "
   ]
  },
  {
   "cell_type": "code",
   "execution_count": 87,
   "metadata": {},
   "outputs": [],
   "source": [
    "q = queue()\n"
   ]
  },
  {
   "cell_type": "code",
   "execution_count": 88,
   "metadata": {
    "tags": []
   },
   "outputs": [
    {
     "output_type": "stream",
     "name": "stdout",
     "text": "current queue elements is:  [1]\ncurrent queue elements is:  [1, 2]\ncurrent queue elements is:  [1, 2, 3]\ncurrent queue elements is:  [1, 2, 3, 4]\n"
    }
   ],
   "source": [
    "q.enqueue(1)\n",
    "q.enqueue(2)\n",
    "q.enqueue(3)\n",
    "q.enqueue(4)\n"
   ]
  },
  {
   "cell_type": "code",
   "execution_count": 89,
   "metadata": {
    "tags": []
   },
   "outputs": [
    {
     "output_type": "stream",
     "name": "stdout",
     "text": "1\nremain elements:  [2, 3, 4]\n"
    }
   ],
   "source": [
    "q.dequeue()"
   ]
  },
  {
   "cell_type": "code",
   "execution_count": 86,
   "metadata": {},
   "outputs": [
    {
     "output_type": "execute_result",
     "data": {
      "text/plain": "True"
     },
     "metadata": {},
     "execution_count": 86
    }
   ],
   "source": [
    "q.isEmpty()"
   ]
  }
 ]
}