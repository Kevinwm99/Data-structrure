{
 "metadata": {
  "language_info": {
   "codemirror_mode": {
    "name": "ipython",
    "version": 3
   },
   "file_extension": ".py",
   "mimetype": "text/x-python",
   "name": "python",
   "nbconvert_exporter": "python",
   "pygments_lexer": "ipython3",
   "version": "3.6.12-final"
  },
  "orig_nbformat": 2,
  "kernelspec": {
   "name": "Python 3.6.12 64-bit ('phu': conda)",
   "display_name": "Python 3.6.12 64-bit ('phu': conda)",
   "metadata": {
    "interpreter": {
     "hash": "aa0237e515302894da2f41a8ca2f788ed35a3424031edda873fbe7d7784a6e07"
    }
   }
  }
 },
 "nbformat": 4,
 "nbformat_minor": 2,
 "cells": [
  {
   "source": [
    "Sample Input\n",
    "\n",
    "( 6 / 3 ) + 4 * 0.4\n",
    "\n",
    "Sample Output\n",
    "\n",
    "3.60\n",
    "\n",
    "Sample Input\n",
    "\n",
    "6 / 3 + 4 * 0.4 / 0\n",
    "\n",
    "Sample Output\n",
    "\n",
    "Error : zero division error\n",
    "\n",
    "Sample Input\n",
    "\n",
    "13 / 2 + 4 * 4 – 2 / 3\n",
    "\n",
    "Sample Output\n",
    "\n",
    "21.83"
   ],
   "cell_type": "markdown",
   "metadata": {}
  },
  {
   "cell_type": "code",
   "execution_count": 193,
   "metadata": {},
   "outputs": [],
   "source": [
    "class Solution:\n",
    "    def calculate(self, s: str) -> int:\n",
    "\n",
    "        stack = []\n",
    "        operand = 0\n",
    "        res = 0 # For the on-going result\n",
    "        sign = 1 # 1 means positive, -1 means negative  \n",
    "\n",
    "        for ch in s:\n",
    "            if ch.isdigit():\n",
    "\n",
    "                # Forming operand, since it could be more than one digit\n",
    "                operand = (operand * 10) + int(ch)\n",
    "\n",
    "            elif ch == '+':\n",
    "\n",
    "                # Evaluate the expression to the left,\n",
    "                # with result, sign, operand\n",
    "                res += sign * operand\n",
    "\n",
    "                # Save the recently encountered '+' sign\n",
    "                sign = 1\n",
    "\n",
    "                # Reset operand\n",
    "                operand = 0\n",
    "            elif ch == '*':\n",
    "                res *= sign * operand\n",
    "                sign =1\n",
    "                operand =0\n",
    "            elif ch == '/':\n",
    "                res /= sign*operand\n",
    "                sign = 1\n",
    "                operand =0\n",
    "\n",
    "            elif ch == '-':\n",
    "\n",
    "                res += sign * operand\n",
    "                sign = -1\n",
    "                operand = 0\n",
    "\n",
    "            elif ch == '(':\n",
    "\n",
    "                # Push the result and sign on to the stack, for later\n",
    "                # We push the result first, then sign\n",
    "                stack.append(res)\n",
    "                stack.append(sign)\n",
    "\n",
    "                # Reset operand and result, as if new evaluation begins for the new sub-expression\n",
    "                sign = 1\n",
    "                res = 0\n",
    "\n",
    "            elif ch == ')':\n",
    "\n",
    "                # Evaluate the expression to the left\n",
    "                # with result, sign and operand\n",
    "                res += sign * operand\n",
    "\n",
    "                # ')' marks end of expression within a set of parenthesis\n",
    "                # Its result is multiplied with sign on top of stack\n",
    "                # as stack.pop() is the sign before the parenthesis\n",
    "                res *= stack.pop() # stack pop 1, sign\n",
    "\n",
    "                # Then add to the next operand on the top.\n",
    "                # as stack.pop() is the result calculated before this parenthesis\n",
    "                # (operand on stack) + (sign on stack * (result from parenthesis))\n",
    "                res += stack.pop() # stack pop 2, operand\n",
    "\n",
    "                # Reset the operand\n",
    "                operand = 0\n",
    "\n",
    "        return res + sign * operand"
   ]
  },
  {
   "cell_type": "code",
   "execution_count": 224,
   "metadata": {},
   "outputs": [],
   "source": [
    "s = \"( ( -16 +3*3 )+ 3 ) + 4 \"\n",
    "# print(len(s))\n",
    "# s =list(s)"
   ]
  },
  {
   "cell_type": "code",
   "execution_count": 221,
   "metadata": {},
   "outputs": [],
   "source": [
    "def parse(x):\n",
    "    operators = set('+-*/')\n",
    "    op_out = []    #This holds the operators that are found in the string (left to right)\n",
    "    num_out = []   #this holds the non-operators that are found in the string (left to right)\n",
    "    buff = []\n",
    "    for c in x:  #examine 1 character at a time\n",
    "        if c in operators:  \n",
    "            #found an operator.  Everything we've accumulated in `buff` is \n",
    "            #a single \"number\". Join it together and put it in `num_out`.\n",
    "            num_out.append(''.join(buff))\n",
    "            buff = []\n",
    "            op_out.append(c)\n",
    "        else:\n",
    "            #not an operator.  Just accumulate this character in buff.\n",
    "            buff.append(c)\n",
    "    num_out.append(''.join(buff))\n",
    "    return num_out,op_out"
   ]
  },
  {
   "cell_type": "code",
   "execution_count": 225,
   "metadata": {},
   "outputs": [
    {
     "output_type": "execute_result",
     "data": {
      "text/plain": [
       "(['( ( ', '16 ', '3', '3 )', ' 3 ) ', ' 4 '], ['-', '+', '*', '+', '+'])"
      ]
     },
     "metadata": {},
     "execution_count": 225
    }
   ],
   "source": [
    "parse(s)"
   ]
  },
  {
   "cell_type": "code",
   "execution_count": null,
   "metadata": {},
   "outputs": [],
   "source": []
  },
  {
   "cell_type": "code",
   "execution_count": 219,
   "metadata": {},
   "outputs": [
    {
     "output_type": "execute_result",
     "data": {
      "text/plain": [
       "58"
      ]
     },
     "metadata": {},
     "execution_count": 219
    }
   ],
   "source": [
    "a= Solution()\n",
    "a.calculate(s)"
   ]
  },
  {
   "cell_type": "code",
   "execution_count": 209,
   "metadata": {},
   "outputs": [],
   "source": [
    "s = list(s)\n",
    "st =[]\n",
    "op = ['(',')']\n",
    "op1 = ['+','-','/','*']\n",
    "tmp = ''\n",
    "cal =[]\n",
    "flag=True\n",
    "l =len(s)\n",
    "for i in s:\n",
    "    l-=1\n",
    "    if i !=' ':\n",
    "        if i not in op+op1:\n",
    "            tmp +=i\n",
    "            if l ==0:\n",
    "                st.append(round(float(tmp),2))\n",
    "            \n",
    "        elif i in op or i in op1:\n",
    "            if tmp!='':\n",
    "                st.append(round(float(tmp),2))\n",
    "                tmp=''\n",
    "            cal.append(i)                \n",
    "# while cal and st:\n",
    "#     operator = cal.pop()\n",
    "#     if operator =='(': flag = False\n",
    "#     elif operator == ')':flag =True\n",
    "#     else:\n",
    "#         # if flag == False: continue\n",
    "#         if operator == \"*\":\n",
    "#             pass\n",
    "#         elif operator =='/':\n",
    "#             pass\n",
    "#         elif operator == '+':\n",
    "#             pass\n",
    "#         else:\n",
    "#             pass"
   ]
  },
  {
   "cell_type": "code",
   "execution_count": 210,
   "metadata": {},
   "outputs": [
    {
     "output_type": "execute_result",
     "data": {
      "text/plain": [
       "[16.0, 3.0, 3.0]"
      ]
     },
     "metadata": {},
     "execution_count": 210
    }
   ],
   "source": [
    "st"
   ]
  },
  {
   "cell_type": "code",
   "execution_count": 220,
   "metadata": {},
   "outputs": [
    {
     "output_type": "execute_result",
     "data": {
      "text/plain": [
       "['(', '-', '(', '+', ')', '*', '(', '-', ')', ')', '+']"
      ]
     },
     "metadata": {},
     "execution_count": 220
    }
   ],
   "source": [
    "(cal)"
   ]
  },
  {
   "cell_type": "code",
   "execution_count": 13,
   "metadata": {},
   "outputs": [
    {
     "output_type": "execute_result",
     "data": {
      "text/plain": [
       "['(', '1', '6', '/', '3', ')', '+', '4', '*', '0', '.', '4']"
      ]
     },
     "metadata": {},
     "execution_count": 13
    }
   ],
   "source": [
    "st"
   ]
  },
  {
   "cell_type": "code",
   "execution_count": null,
   "metadata": {},
   "outputs": [],
   "source": []
  }
 ]
}