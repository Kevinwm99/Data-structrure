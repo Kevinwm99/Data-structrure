{
 "metadata": {
  "language_info": {
   "codemirror_mode": {
    "name": "ipython",
    "version": 3
   },
   "file_extension": ".py",
   "mimetype": "text/x-python",
   "name": "python",
   "nbconvert_exporter": "python",
   "pygments_lexer": "ipython3",
   "version": "3.6.10-final"
  },
  "orig_nbformat": 2,
  "kernelspec": {
   "name": "python_defaultSpec_1600521196514",
   "display_name": "Python 3.6.10 64-bit ('phu': conda)"
  }
 },
 "nbformat": 4,
 "nbformat_minor": 2,
 "cells": [
  {
   "cell_type": "code",
   "execution_count": 1,
   "metadata": {},
   "outputs": [],
   "source": [
    "class Node(object):\n",
    "    def __init__(self, name=None, value=object):\n",
    "        self.name = name\n",
    "        self.value = value\n",
    "        self.children = []\n",
    "    def add_child(self, obj):\n",
    "        self.children.append(obj)s"
   ]
  },
  {
   "cell_type": "code",
   "execution_count": null,
   "metadata": {},
   "outputs": [],
   "source": [
    "class Tree(object):\n",
    "    def __init__(self, name=None, value=object):\n",
    "        self.name = name\n",
    "        if self.name == 'root':\n"
   ]
  }
 ]
}