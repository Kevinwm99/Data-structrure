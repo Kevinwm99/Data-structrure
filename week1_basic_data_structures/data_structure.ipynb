{
 "metadata": {
  "language_info": {
   "codemirror_mode": {
    "name": "ipython",
    "version": 3
   },
   "file_extension": ".py",
   "mimetype": "text/x-python",
   "name": "python",
   "nbconvert_exporter": "python",
   "pygments_lexer": "ipython3",
   "version": "3.6.10-final"
  },
  "orig_nbformat": 2,
  "kernelspec": {
   "name": "Python 3.6.10 64-bit ('phu': conda)",
   "display_name": "Python 3.6.10 64-bit ('phu': conda)",
   "metadata": {
    "interpreter": {
     "hash": "93567997320a41260cba541b0b0fc558b64d7e06ab3ccf74c021b635184135f0"
    }
   }
  }
 },
 "nbformat": 4,
 "nbformat_minor": 2,
 "cells": [
  {
   "cell_type": "code",
   "execution_count": 187,
   "metadata": {},
   "outputs": [],
   "source": [
    "class Stack():\n",
    "    def __init__(self,size):\n",
    "        self.size = size\n",
    "        self.stack = [None]*self.size\n",
    "        self.top = 0\n",
    "    def isEmpty(self):\n",
    "        if self.top == 0:\n",
    "            return True\n",
    "        else:\n",
    "            return False\n",
    "    def push(self,key):\n",
    "        if self.top == self.size :\n",
    "            print(\"stack overflow\")\n",
    "            return \n",
    "        else:\n",
    "            self.stack[self.top]=key\n",
    "            print(\"{} is pushed to the stack\".format(key))\n",
    "            self.top+=1\n",
    "    def pop(self):\n",
    "        if self.isEmpty():\n",
    "            print(\"stack underflow\")\n",
    "            return \n",
    "        else:\n",
    "            self.top-=1\n",
    "            res = self.stack[self.top]\n",
    "            self.stack[self.top]=None\n",
    "            return res\n",
    "    def peek(self):\n",
    "        if self.isEmpty():\n",
    "            print(\"stack underflow\")\n",
    "            return \n",
    "        else:\n",
    "            return self.stack[self.top-1]\n",
    "    "
   ]
  },
  {
   "cell_type": "code",
   "execution_count": 188,
   "metadata": {},
   "outputs": [],
   "source": [
    "class Queue():\n",
    "    def __init__(self,size):\n",
    "        self.size = size \n",
    "        self.queue = [None]*size\n",
    "        self.head = 0\n",
    "        self.tail = 0\n",
    "    def enqueue(self,key):\n",
    "        if (not None in self.queue) and self.head==self.tail:\n",
    "            print(\"queue overflow\")\n",
    "            return \n",
    "        self.queue[self.tail]=key\n",
    "        if self.tail == self.size-1:\n",
    "            self.tail =0\n",
    "        else:\n",
    "            self.tail+=1\n",
    "    def dequeue(self):\n",
    "        if self.isEmpty():\n",
    "            print(\"queue underflow\")\n",
    "            return \n",
    "        res = self.queue[self.head]\n",
    "        self.queue[self.head]=None\n",
    "        if self.head == self.size-1:\n",
    "            self.head =0\n",
    "        else:\n",
    "            self.head +=1\n",
    "        return res\n",
    "    def isEmpty(self):\n",
    "        if (None in self.queue) and self.head==self.tail:\n",
    "            return True\n",
    "        else: return False\n",
    "        \n"
   ]
  },
  {
   "cell_type": "code",
   "execution_count": 189,
   "metadata": {},
   "outputs": [],
   "source": [
    "class Node():\n",
    "    def __init__(self,key):\n",
    "        self.key = key\n",
    "        self.next = None\n",
    "        self.prev = None"
   ]
  },
  {
   "cell_type": "code",
   "execution_count": 487,
   "metadata": {},
   "outputs": [],
   "source": [
    "class Singly_linked_list():\n",
    "    def __init__(self):\n",
    "        self.head = None\n",
    "    def pushBack(self,key):\n",
    "        new_node = Node(key)\n",
    "        if self.head is None:\n",
    "            self.head = new_node\n",
    "            return\n",
    "        last_node = self.head\n",
    "        while(last_node.next):\n",
    "            last_node = last_node.next \n",
    "        last_node.next = new_node\n",
    "    def pushFront(self,key):\n",
    "        new_node = Node(key)\n",
    "        if self.head is None:\n",
    "            self.head = new_node\n",
    "            return\n",
    "        old_head = self.head\n",
    "        new_node.next = old_head\n",
    "        self.head = new_node\n",
    "    def popFront(self):\n",
    "        if self.isEmpty():\n",
    "            return \n",
    "        pop_node = self.head\n",
    "        if pop_node.next is None: \n",
    "            self.head = None\n",
    "            return pop_node.key\n",
    "        self.head = pop_node.next\n",
    "        return pop_node.key\n",
    "    def popBack(self):\n",
    "        if self.isEmpty():\n",
    "            return \n",
    "        pop_node = self.head\n",
    "        while(pop_node):\n",
    "            if pop_node.next is None: \n",
    "                self.head = None\n",
    "                return pop_node.key\n",
    "            if pop_node.next.next is None:\n",
    "                pop_val = pop_node.next\n",
    "                pop_node.next =None\n",
    "                return pop_val.key\n",
    "            pop_node =pop_node.next\n",
    "    def findKey(self,key):\n",
    "        if self.isEmpty():\n",
    "            return \n",
    "        find_key = self.head\n",
    "        while(find_key):\n",
    "            if find_key.key == key:\n",
    "                return True\n",
    "            find_key=find_key.next\n",
    "        return False\n",
    "    def erase(key):\n",
    "        find_key = self.head\n",
    "        while (find_key):\n",
    "            if find_key.key == key:\n",
    "                \n",
    "            find_key=find_key.next\n",
    "    def addBefore(self,node,key):\n",
    "        new_node = Node(key)\n",
    "        find_node = self.head\n",
    "        if find_node.key == node:\n",
    "            old_head = find_node\n",
    "            self.head = new_node\n",
    "            new_node.next = old_head\n",
    "            return\n",
    "        while(find_node):\n",
    "            if find_node.next is None:\n",
    "                    return\n",
    "            if find_node.next.key == node:\n",
    "                old_node = find_node.next\n",
    "                find_node.next = new_node\n",
    "                new_node.next = old_node\n",
    "                return    \n",
    "            find_node = find_node.next\n",
    "    def addAfter(self,node,key):\n",
    "        new_node = Node(key)\n",
    "        find_node = self.head\n",
    "        if find_node.key == node:\n",
    "            old_tail = find_node.next\n",
    "            find_node.next = new_node\n",
    "            new_node.next = old_tail\n",
    "            return\n",
    "        while(find_node):\n",
    "            if find_node.key == node:\n",
    "                old_tail = find_node.next\n",
    "                find_node.next = new_node\n",
    "                new_node.next = old_tail\n",
    "                return\n",
    "            find_node = find_node.next         \n",
    "    def print_list(self):\n",
    "        print_node = self.head\n",
    "        print(\"head\") \n",
    "        while print_node is not None:\n",
    "            print(print_node.key)\n",
    "            print_node = print_node.next\n",
    "            if print_node is None: print(\"tail\")\n",
    "    def isEmpty(self):\n",
    "        if self.head is None: \n",
    "            print(\"the list is empty\")\n",
    "            return True\n",
    "        else: return False\n"
   ]
  },
  {
   "cell_type": "code",
   "execution_count": 488,
   "metadata": {},
   "outputs": [],
   "source": [
    "l = Singly_linked_list()"
   ]
  },
  {
   "cell_type": "code",
   "execution_count": 475,
   "metadata": {},
   "outputs": [
    {
     "output_type": "stream",
     "name": "stdout",
     "text": [
      "the list is empty\n"
     ]
    },
    {
     "output_type": "execute_result",
     "data": {
      "text/plain": [
       "True"
      ]
     },
     "metadata": {},
     "execution_count": 475
    }
   ],
   "source": [
    "l.isEmpty()"
   ]
  },
  {
   "cell_type": "code",
   "execution_count": 489,
   "metadata": {},
   "outputs": [],
   "source": [
    "\n",
    "l.pushFront(1)\n",
    "l.pushFront(2)\n",
    "l.pushFront(3)\n",
    "l.pushFront(4)\n",
    "l.pushFront(5)"
   ]
  },
  {
   "cell_type": "code",
   "execution_count": 316,
   "metadata": {},
   "outputs": [],
   "source": [
    "\n",
    "l.pushBack(1)\n",
    "l.pushBack(2)\n",
    "l.pushBack(3)\n",
    "l.pushBack(4)\n",
    "l.pushBack(5)"
   ]
  },
  {
   "cell_type": "code",
   "execution_count": 490,
   "metadata": {},
   "outputs": [
    {
     "output_type": "stream",
     "name": "stdout",
     "text": [
      "head\n5\n4\n3\n2\n1\ntail\n"
     ]
    }
   ],
   "source": [
    "l.print_list()"
   ]
  },
  {
   "cell_type": "code",
   "execution_count": 466,
   "metadata": {},
   "outputs": [
    {
     "output_type": "execute_result",
     "data": {
      "text/plain": [
       "9"
      ]
     },
     "metadata": {},
     "execution_count": 466
    }
   ],
   "source": [
    "l.head.key"
   ]
  },
  {
   "cell_type": "code",
   "execution_count": 374,
   "metadata": {},
   "outputs": [
    {
     "output_type": "execute_result",
     "data": {
      "text/plain": [
       "False"
      ]
     },
     "metadata": {},
     "execution_count": 374
    }
   ],
   "source": [
    "l.findKey(7)"
   ]
  },
  {
   "cell_type": "code",
   "execution_count": 495,
   "metadata": {},
   "outputs": [
    {
     "output_type": "stream",
     "name": "stdout",
     "text": [
      "head\n5\n9\n9\n4\n3\n9\n2\n9\n1\n9\ntail\n"
     ]
    }
   ],
   "source": [
    "l.addAfter(9,9)\n",
    "l.print_list()"
   ]
  },
  {
   "cell_type": "code",
   "execution_count": 380,
   "metadata": {},
   "outputs": [
    {
     "output_type": "stream",
     "name": "stdout",
     "text": [
      "the list is empty\n"
     ]
    }
   ],
   "source": [
    "l.popBack()"
   ]
  },
  {
   "cell_type": "code",
   "execution_count": 331,
   "metadata": {},
   "outputs": [
    {
     "output_type": "stream",
     "name": "stdout",
     "text": [
      "the list is empty\n"
     ]
    }
   ],
   "source": [
    "l.popFront()"
   ]
  },
  {
   "cell_type": "code",
   "execution_count": 63,
   "metadata": {},
   "outputs": [
    {
     "output_type": "execute_result",
     "data": {
      "text/plain": [
       "False"
      ]
     },
     "metadata": {},
     "execution_count": 63
    }
   ],
   "source": [
    "l.head is None"
   ]
  },
  {
   "cell_type": "code",
   "execution_count": 78,
   "metadata": {},
   "outputs": [
    {
     "output_type": "execute_result",
     "data": {
      "text/plain": [
       "False"
      ]
     },
     "metadata": {},
     "execution_count": 78
    }
   ],
   "source": [
    "l.isEmpty()"
   ]
  }
 ]
}