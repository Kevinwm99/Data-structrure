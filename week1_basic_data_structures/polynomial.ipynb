{
 "metadata": {
  "language_info": {
   "codemirror_mode": {
    "name": "ipython",
    "version": 3
   },
   "file_extension": ".py",
   "mimetype": "text/x-python",
   "name": "python",
   "nbconvert_exporter": "python",
   "pygments_lexer": "ipython3",
   "version": "3.6.10-final"
  },
  "orig_nbformat": 2,
  "kernelspec": {
   "name": "Python 3.6.10 64-bit ('phu': conda)",
   "display_name": "Python 3.6.10 64-bit ('phu': conda)",
   "metadata": {
    "interpreter": {
     "hash": "93567997320a41260cba541b0b0fc558b64d7e06ab3ccf74c021b635184135f0"
    }
   }
  }
 },
 "nbformat": 4,
 "nbformat_minor": 2,
 "cells": [
  {
   "source": [
    "Sample Input\n",
    "\n",
    "    3\n",
    "    3 12\n",
    "    2 8\n",
    "    1 0\n",
    "    4\n",
    "    15 11\n",
    "    14 3\n",
    "    2 2\n",
    "    1 1\n",
    " \n",
    "\n",
    "Sample Output\n",
    "\n",
    "    (3) = 3.0 x^12 + 2.0 x^8 + 1.0 x^0\n",
    "    (4) = 15.0 x^11 + 14.0 x^3 + 2.0 x^2 + 1.0 x^1\n",
    "    (7) = 3.0 x^12 + 15.0 x^11 + 2.0 x^8 + 14.0 x^3 + 2.0 x^2 + 1.0 x^1 + 1.0 x^0\n",
    "    \n",
    "\n",
    "Sample Input\n",
    "\n",
    "    4\n",
    "    3 12\n",
    "    2 8\n",
    "    10 3\n",
    "    1 0\n",
    "    3\n",
    "    15 12\n",
    "    -14 8\n",
    "    2 3\n",
    " \n",
    "\n",
    "Sample Output\n",
    "\n",
    "    (4) = 3.0 x^12 + 2.0 x^8 + 10.0 x^3 + 1.0 x^0\n",
    "    (3) = 15.0 x^12 + -14.0 x^8 + 2.0 x^3\n",
    "    (4) = 18.0 x^12 + -12.0 x^8 + 12.0 x^3 + 1.0 x^0\n",
    " \n",
    "\n",
    "Sample Input\n",
    "\n",
    "    4\n",
    "    10 5\n",
    "    32 4\n",
    "    2 3\n",
    "    5 2\n",
    "    5\n",
    "    1 12\n",
    "    2 10\n",
    "    3 5\n",
    "    4 3\n",
    "    5 2\n",
    "    \n",
    "\n",
    "Sample Output\n",
    "\n",
    "    (4) = 10.0 x^5 + 32.0 x^4 + 2.0 x^3 + 5.0 x^2\n",
    "    (5) = 1.0 x^12 + 2.0 x^10 + 3.0 x^5 + 4.0 x^3 + 5.0 x^2\n",
    "    (6) = 1.0 x^12 + 2.0 x^10 + 13.0 x^5 + 32.0 x^4 + 6.0 x^3 + 10.0 x^2"
   ],
   "cell_type": "markdown",
   "metadata": {}
  },
  {
   "source": [
    "### My approach to this problem:\n",
    "\n",
    "Since the problem advices to use linked list, I used this data structure to solve this problem.\n",
    "\n",
    "As far as I've seen, the input consists of two parts: number terms and the polynomial part containing coefficients and the exponents. I saw that the number of terms can be encapsulated with the polynomial part. In other words, the number of line for polynomials parts equal the number of terms.\n",
    "\n",
    "Next, we can store the polynomial part in a linked list of array ( for each array is a coefficient and an exponent). I have implemented the linked list data structure in the Collections file, so let's import it"
   ],
   "cell_type": "markdown",
   "metadata": {}
  },
  {
   "cell_type": "code",
   "execution_count": 1,
   "metadata": {},
   "outputs": [],
   "source": [
    "from Collections import Doubly_linked_list"
   ]
  },
  {
   "source": [
    "#### We can let the head be the number of terms, but I find it inconvenient"
   ],
   "cell_type": "markdown",
   "metadata": {}
  },
  {
   "cell_type": "code",
   "execution_count": 2,
   "metadata": {},
   "outputs": [],
   "source": [
    "p1 = Doubly_linked_list()\n",
    "# p1.pushBack(3)\n",
    "p1.pushBack([3,12])\n",
    "p1.pushBack([2,8])\n",
    "p1.pushBack([1,0])\n",
    "\n",
    "p2 = Doubly_linked_list()\n",
    "# p2.pushBack(4)\n",
    "p2.pushBack([15,11])\n",
    "p2.pushBack([14,3])\n",
    "p2.pushBack([2,2])\n",
    "p2.pushBack([1,1])"
   ]
  },
  {
   "source": [
    "#### For displaying the polynomial, I use the function below, by transversing all the list we get the result."
   ],
   "cell_type": "markdown",
   "metadata": {}
  },
  {
   "cell_type": "code",
   "execution_count": 3,
   "metadata": {
    "tags": []
   },
   "outputs": [],
   "source": [
    "def display(linked_list):\n",
    "    string=''\n",
    "    string = '({})'.format(len(linked_list))+' '+'='\n",
    "    head = linked_list.head\n",
    "    while head:\n",
    "        string +=str(float(head.key[0]))+'x'+'^'+str(head.key[1])\n",
    "        head = head.next\n",
    "        if head is not None:\n",
    "            string+=' '+'+'\n",
    "    return string"
   ]
  },
  {
   "cell_type": "code",
   "execution_count": 4,
   "metadata": {},
   "outputs": [
    {
     "output_type": "stream",
     "name": "stdout",
     "text": [
      "(3) =3.0x^12 +2.0x^8 +1.0x^0\n(4) =15.0x^11 +14.0x^3 +2.0x^2 +1.0x^1\n"
     ]
    }
   ],
   "source": [
    "print(display(p1))\n",
    "print(display(p2))"
   ]
  },
  {
   "source": [
    "#### In order to add 2 polynomial, we first need to transverse both of them at the same time. THe first while loop does it by using the 'and' operation. This makes sure that list1 and list2 will be iterated at the same time until one of them exceeds the number of nodes. I use the array indexing to compare there exponent, however, there is another way to do it by modifying the linked list class. \n",
    "\n",
    "After one of the list exceeds the number of nodes, we again transvers the rest of the reamining nodes of the other one. Finally return the result."
   ],
   "cell_type": "markdown",
   "metadata": {}
  },
  {
   "cell_type": "code",
   "execution_count": 7,
   "metadata": {},
   "outputs": [],
   "source": [
    "def add_poly(p1,p2):\n",
    "    head1 = p1.head\n",
    "    head2 = p2.head\n",
    "    res = Doubly_linked_list()\n",
    "    while head1 and head2:\n",
    "        if head1.key[1]>head2.key[1]:\n",
    "            res.pushBack(head1.key)\n",
    "            head1=head1.next\n",
    "        elif head2.key[1]>head1.key[1]:\n",
    "            res.pushBack(head2.key)\n",
    "            head2=head2.next\n",
    "        else:\n",
    "            res.pushBack([head1.key[0]+head2.key[0],head1.key[1]])\n",
    "            head1=head1.next\n",
    "            head2=head2.next\n",
    "    while head1 or head2:\n",
    "        if head1:\n",
    "            res.pushBack(head1.key)\n",
    "            head1=head1.next\n",
    "        if head2:\n",
    "            res.pushBack(head2.key)\n",
    "            head2=head2.next\n",
    "    return res\n"
   ]
  },
  {
   "source": [
    "### Results:\n"
   ],
   "cell_type": "markdown",
   "metadata": {}
  },
  {
   "cell_type": "code",
   "execution_count": 8,
   "metadata": {},
   "outputs": [
    {
     "output_type": "execute_result",
     "data": {
      "text/plain": [
       "'(7) =3.0x^12 +15.0x^11 +2.0x^8 +14.0x^3 +2.0x^2 +1.0x^1 +1.0x^0'"
      ]
     },
     "metadata": {},
     "execution_count": 8
    }
   ],
   "source": [
    "res = add_poly(p1,p2)\n",
    "display(res)"
   ]
  },
  {
   "cell_type": "code",
   "execution_count": 11,
   "metadata": {},
   "outputs": [],
   "source": [
    "p1 = Doubly_linked_list()\n",
    "p1.pushBack([3,12])\n",
    "p1.pushBack([2,8])\n",
    "p1.pushBack([10,3])\n",
    "p1.pushBack([1,0])\n",
    "\n",
    "p2 = Doubly_linked_list()\n",
    "p2.pushBack([15,11])\n",
    "p2.pushBack([-14,8])\n",
    "p2.pushBack([2,3])\n"
   ]
  },
  {
   "cell_type": "code",
   "execution_count": 12,
   "metadata": {},
   "outputs": [
    {
     "output_type": "stream",
     "name": "stdout",
     "text": [
      "(5) =3.0x^12 +15.0x^11 +-12.0x^8 +12.0x^3 +1.0x^0\n"
     ]
    }
   ],
   "source": [
    "print(display(add_poly(p1,p2)))"
   ]
  }
 ]
}