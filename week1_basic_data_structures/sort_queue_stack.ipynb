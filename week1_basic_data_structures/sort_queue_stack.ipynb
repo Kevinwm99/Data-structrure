{
 "metadata": {
  "language_info": {
   "codemirror_mode": {
    "name": "ipython",
    "version": 3
   },
   "file_extension": ".py",
   "mimetype": "text/x-python",
   "name": "python",
   "nbconvert_exporter": "python",
   "pygments_lexer": "ipython3",
   "version": "3.6.12-final"
  },
  "orig_nbformat": 2,
  "kernelspec": {
   "name": "Python 3.6.12 64-bit ('phu': conda)",
   "display_name": "Python 3.6.12 64-bit ('phu': conda)",
   "metadata": {
    "interpreter": {
     "hash": "aa0237e515302894da2f41a8ca2f788ed35a3424031edda873fbe7d7784a6e07"
    }
   }
  }
 },
 "nbformat": 4,
 "nbformat_minor": 2,
 "cells": [
  {
   "source": [
    "Sortable check program\n",
    "I want to make a program that checks whether the integer numbers stored in the input queue can be sorted in another output queue using the stack. At this time, the queue and stack are implemented using an array. The operations allowed here are as follows. \n",
    "Input queue: dequeue\n",
    "Print queue: enqueue\n",
    "Stack: push and pop\n",
    "For example, assuming that elements 1 2 3 4 5 are stored in the input queue and sorted in descending order, you can put all the elements in the stack in order, take them out one by one, and enter them into the output queue to sort them in descending order. \n",
    " \n",
    "Numbers from the input queue can go directly to the output queue or go through the stack and go to the output queue. When only allowed operations are used, it is determined whether or not it is possible to finally place the sorted numbers in the output queue. \n",
    " \n",
    "Input\n",
    "The first line of the input contains the number of elements n (1<= n <= 20) and the sorting method (descending order, ascending order). Here, a is an ascending order, and d is a descending order. \n",
    " \n",
    "The next line contains n positive integers in random order. In this case, each integer is a number between 1 and n and has a different value. Each integer is separated by a space. \n",
    " \n",
    "Output\n",
    "Outputs Yes if sorting is possible in the print queue, and outputs No if not.\n",
    " \n",
    "Sample Input 1\n",
    "5 a\n",
    "1 2 3 4 5\n",
    "\n",
    "Sample Output 1\n",
    "Yes\n",
    "\n",
    " \n",
    "\n",
    "Sample Input 2\n",
    "6 d\n",
    "6 4 3 5 2 1\n",
    "\n",
    "Sample Output 2\n",
    "No\n",
    "\n",
    " \n",
    "\n",
    "Sample Input 3\n",
    "5 a\n",
    "5 2 1 4 3\n",
    " \n",
    "Sample Output 3\n",
    "Yes\n",
    "\n",
    " \n",
    "Sample Input 4\n",
    "5 a\n",
    "4 3 1 2 5\n",
    " \n",
    "Sample Output 4\n",
    "Yes"
   ],
   "cell_type": "markdown",
   "metadata": {}
  },
  {
   "cell_type": "code",
   "execution_count": 1,
   "metadata": {},
   "outputs": [],
   "source": [
    "def check_ascending(q):\n",
    "    stack =[]\n",
    "    outq=[]\n",
    "    while q:\n",
    "        tmp = q.pop(0)\n",
    "        if stack==[]:\n",
    "            stack.append(tmp)\n",
    "        else:\n",
    "            while stack and tmp > stack[-1]:\n",
    "                outq.append(stack.pop())\n",
    "            if outq and tmp < outq[-1]:\n",
    "                raise Exception(\"no\")\n",
    "            stack.append(tmp)\n",
    "    while stack:\n",
    "\n",
    "        t= stack.pop()\n",
    "        if t > outq[-1]:\n",
    "            outq.append(t)\n",
    "    if len(outq) == len(q):\n",
    "        print(outq)\n",
    "        return True\n",
    "    return False\n"
   ]
  },
  {
   "cell_type": "code",
   "execution_count": 10,
   "metadata": {},
   "outputs": [
    {
     "output_type": "execute_result",
     "data": {
      "text/plain": [
       "False"
      ]
     },
     "metadata": {},
     "execution_count": 10
    }
   ],
   "source": [
    "q  = [4, 3, 1, 2, 5]\n",
    "check_ascending(q)"
   ]
  },
  {
   "cell_type": "code",
   "execution_count": 9,
   "metadata": {},
   "outputs": [],
   "source": [
    "def check_descending(q):\n",
    "    stack=[]\n",
    "    outq=[]\n",
    "    while q:\n",
    "        val =q.pop(0)\n",
    "        if not stack:\n",
    "            stack.append(val)\n",
    "        if val > stack[-1]:\n",
    "            # print(val)\n",
    "            if outq and val > outq[-1]:\n",
    "                # print(val)\n",
    "                return False\n",
    "            stack.append(val)\n",
    "            print(stack)\n",
    "        else:\n",
    "            # print(stack)\n",
    "            outq,stack = eva(stack,outq,val)\n",
    "            # print(stack)\n",
    "    while stack:\n",
    "        outq.append(stack.pop())\n",
    "    if len(outq) == len(q):\n",
    "        print(outq)\n",
    "        return True\n",
    "    return False"
   ]
  },
  {
   "cell_type": "code",
   "execution_count": 3,
   "metadata": {},
   "outputs": [],
   "source": [
    "def eva(stack,outq,val):\n",
    "    while stack and val <stack[-1]:\n",
    "        outq.append(stack.pop())\n",
    "        # print(stack)\n",
    "    if val not in stack:\n",
    "        stack.append(val)\n",
    "    return outq, stack\n",
    "\n"
   ]
  },
  {
   "cell_type": "code",
   "execution_count": 6,
   "metadata": {},
   "outputs": [
    {
     "output_type": "execute_result",
     "data": {
      "text/plain": [
       "False"
      ]
     },
     "metadata": {},
     "execution_count": 6
    }
   ],
   "source": [
    "q = [6, 4, 3, 5, 2, 1]\n",
    "check_descending(q)"
   ]
  },
  {
   "cell_type": "code",
   "execution_count": null,
   "metadata": {},
   "outputs": [],
   "source": []
  },
  {
   "cell_type": "code",
   "execution_count": 72,
   "metadata": {},
   "outputs": [
    {
     "output_type": "execute_result",
     "data": {
      "text/plain": [
       "[]"
      ]
     },
     "metadata": {},
     "execution_count": 72
    }
   ],
   "source": [
    "outq"
   ]
  },
  {
   "cell_type": "code",
   "execution_count": 72,
   "metadata": {},
   "outputs": [
    {
     "output_type": "execute_result",
     "data": {
      "text/plain": [
       "[]"
      ]
     },
     "metadata": {},
     "execution_count": 72
    }
   ],
   "source": [
    "stack"
   ]
  }
 ]
}