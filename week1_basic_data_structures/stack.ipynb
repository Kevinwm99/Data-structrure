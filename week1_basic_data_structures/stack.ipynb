{
 "metadata": {
  "language_info": {
   "codemirror_mode": {
    "name": "ipython",
    "version": 3
   },
   "file_extension": ".py",
   "mimetype": "text/x-python",
   "name": "python",
   "nbconvert_exporter": "python",
   "pygments_lexer": "ipython3",
   "version": "3.6.10-final"
  },
  "orig_nbformat": 2,
  "kernelspec": {
   "name": "Python 3.6.10 64-bit ('phu': conda)",
   "display_name": "Python 3.6.10 64-bit ('phu': conda)",
   "metadata": {
    "interpreter": {
     "hash": "93567997320a41260cba541b0b0fc558b64d7e06ab3ccf74c021b635184135f0"
    }
   }
  }
 },
 "nbformat": 4,
 "nbformat_minor": 2,
 "cells": [
  {
   "cell_type": "code",
   "execution_count": 173,
   "metadata": {},
   "outputs": [],
   "source": [
    "class Stack():\n",
    "    def __init__(self,size):\n",
    "        self.size = size\n",
    "        self.stack = [None]*self.size\n",
    "        self.top = 0\n",
    "    def isEmpty(self):\n",
    "        if self.top == 0:\n",
    "            return True\n",
    "        else:\n",
    "            return False\n",
    "    def push(self,key):\n",
    "        if self.top == self.size :\n",
    "            print(\"stack overflow\")\n",
    "            return -1\n",
    "        else:\n",
    "            self.stack[self.top]=key\n",
    "            print(\"{} is pushed to the stack\".format(key))\n",
    "            self.top+=1\n",
    "    def pop(self):\n",
    "        if self.isEmpty():\n",
    "            print(\"stack underflow\")\n",
    "            return -1\n",
    "        else:\n",
    "            self.top-=1\n",
    "            res = self.stack[self.top]\n",
    "            self.stack[self.top]=None\n",
    "            return res\n",
    "    def peek(self):\n",
    "        if self.isEmpty():\n",
    "            print(\"stack underflow\")\n",
    "            return -1\n",
    "        else:\n",
    "            return self.stack[self.top-1]\n",
    "    "
   ]
  },
  {
   "cell_type": "code",
   "execution_count": 392,
   "metadata": {},
   "outputs": [],
   "source": [
    "class Queue():\n",
    "    def __init__(self,size):\n",
    "        self.size = size \n",
    "        self.queue = [None]*size\n",
    "        self.head = 0\n",
    "        self.tail = 0\n",
    "    def enqueue(self,key):\n",
    "        if (not None in self.queue) and self.head==self.tail:\n",
    "            print(\"queue overflow\")\n",
    "            return -1\n",
    "        self.queue[self.tail]=key\n",
    "        if self.tail == self.size-1:\n",
    "            self.tail =0\n",
    "        else:\n",
    "            self.tail+=1\n",
    "    def dequeue(self):\n",
    "        if self.isEmpty():\n",
    "            print(\"queue underflow\")\n",
    "            return -1\n",
    "        res = self.queue[self.head]\n",
    "        self.queue[self.head]=None\n",
    "        if self.head == self.size-1:\n",
    "            self.head =0\n",
    "        else:\n",
    "            self.head +=1\n",
    "        return res\n",
    "    def isEmpty(self):\n",
    "        if (None in self.queue) and self.head==self.tail:\n",
    "            return True\n",
    "        else: return False\n",
    "        \n"
   ]
  },
  {
   "cell_type": "code",
   "execution_count": 1,
   "metadata": {},
   "outputs": [],
   "source": [
    "class Node():\n",
    "    def __init__(self,key):\n",
    "        self.key = key\n",
    "        self.next = None\n",
    "        self.prev = None"
   ]
  },
  {
   "cell_type": "code",
   "execution_count": 181,
   "metadata": {},
   "outputs": [],
   "source": [
    "class Singly_linked_list():\n",
    "    def __init__(self):\n",
    "        self.head = None\n",
    "        self.tail = None\n",
    "        # self.head.next = self.tail\n",
    "        # self.linked_list = []\n",
    "        # if not self.isEmpty():\n",
    "        #     self.head.next = self.linked_list[0]\n",
    "    def pushBack(self,key):\n",
    "        new_node = Node(key)\n",
    "        if self.head is None:\n",
    "            self.head = new_node\n",
    "            return\n",
    "        last_node = self.head\n",
    "        while(last_node.next):\n",
    "            last_node = last_node.next \n",
    "        last_node.next = new_node\n",
    "    def pushFront(self,key):\n",
    "        new_node = Node(key)\n",
    "        if self.head is None:\n",
    "            self.head = new_node\n",
    "        old_head = self.head\n",
    "        new_node.next = old_head\n",
    "        self.head = new_node\n",
    "\n",
    "    def popFront(self):\n",
    "        if self.sEmpty():\n",
    "            return \n",
    "        pop_node = self.head.next\n",
    "        self.head.next = pop_node.next\n",
    "        return pop_node\n",
    "    def popBack(self):\n",
    "        pass\n",
    "    def find(self,key):\n",
    "        pass\n",
    "    def erase(key):\n",
    "        pass\n",
    "    def addBefore(self,Node,key):\n",
    "        pass\n",
    "    def addAfter(self,Node,key):\n",
    "        pass\n",
    "    def print_list(self):\n",
    "        print_node = self.head\n",
    "        while print_node is not None:\n",
    "            print(print_node.key)\n",
    "            print_node = print_node.next\n",
    "\n",
    "    def isEmpty(self):\n",
    "        if self.head.next is None: return True\n",
    "        else: return False\n"
   ]
  },
  {
   "cell_type": "code",
   "execution_count": 202,
   "metadata": {},
   "outputs": [],
   "source": [
    "l = Singly_linked_list()"
   ]
  },
  {
   "cell_type": "code",
   "execution_count": 114,
   "metadata": {},
   "outputs": [
    {
     "output_type": "execute_result",
     "data": {
      "text/plain": [
       "True"
      ]
     },
     "metadata": {},
     "execution_count": 114
    }
   ],
   "source": [
    "l.head.next is None"
   ]
  },
  {
   "cell_type": "code",
   "execution_count": 205,
   "metadata": {},
   "outputs": [],
   "source": [
    "l.pushFront(3)"
   ]
  },
  {
   "cell_type": "code",
   "execution_count": 209,
   "metadata": {},
   "outputs": [
    {
     "output_type": "execute_result",
     "data": {
      "text/plain": [
       "1"
      ]
     },
     "metadata": {},
     "execution_count": 209
    }
   ],
   "source": [
    "l.head.next.next.next.key"
   ]
  },
  {
   "cell_type": "code",
   "execution_count": 191,
   "metadata": {},
   "outputs": [
    {
     "output_type": "stream",
     "name": "stdout",
     "text": [
      "1\n2\n3\n"
     ]
    }
   ],
   "source": [
    "l.print_list()"
   ]
  },
  {
   "cell_type": "code",
   "execution_count": 63,
   "metadata": {},
   "outputs": [
    {
     "output_type": "execute_result",
     "data": {
      "text/plain": [
       "False"
      ]
     },
     "metadata": {},
     "execution_count": 63
    }
   ],
   "source": [
    "l.head is None"
   ]
  },
  {
   "cell_type": "code",
   "execution_count": 78,
   "metadata": {},
   "outputs": [
    {
     "output_type": "execute_result",
     "data": {
      "text/plain": [
       "False"
      ]
     },
     "metadata": {},
     "execution_count": 78
    }
   ],
   "source": [
    "l.isEmpty()"
   ]
  }
 ]
}