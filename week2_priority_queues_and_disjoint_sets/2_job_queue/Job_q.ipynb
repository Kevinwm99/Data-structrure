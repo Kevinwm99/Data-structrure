{
 "metadata": {
  "language_info": {
   "codemirror_mode": {
    "name": "ipython",
    "version": 3
   },
   "file_extension": ".py",
   "mimetype": "text/x-python",
   "name": "python",
   "nbconvert_exporter": "python",
   "pygments_lexer": "ipython3",
   "version": "3.6.12-final"
  },
  "orig_nbformat": 2,
  "kernelspec": {
   "name": "Python 3.6.12 64-bit ('phu': conda)",
   "display_name": "Python 3.6.12 64-bit ('phu': conda)",
   "metadata": {
    "interpreter": {
     "hash": "aa0237e515302894da2f41a8ca2f788ed35a3424031edda873fbe7d7784a6e07"
    }
   }
  }
 },
 "nbformat": 4,
 "nbformat_minor": 2,
 "cells": [
  {
   "source": [
    "# Problem 2 \n",
    "## Parallel processing\n",
    "In this problem we will simulate a program that processes a list of jobs in parallel.\n",
    "## Problem description\n",
    "### Task.\n",
    "You have a program which is parallelized and uses 𝑛 independent threads to process the given list of 𝑚 jobs. Threads take jobs in the order they are given in the input. If there is a free thread, it immediately takes the next job from the list. If a thread has started processing a job, it doesn’t interrupt or stop until it finishes processing the job. If several threads try to take jobs from the list simultaneously, the thread with smaller index takes the job. For each job you know exactly how long will it take any thread to process this job, and this time is the same for all the threads. You need to determine for each job which thread will process it and when will it start processing.\n",
    "\n",
    "### Input format.\n",
    "\n",
    "The first line of the input contains integers $n$ and $m$\n",
    "\n",
    "The second line contains $m$ integers $t_i - $ the times in seconds it takes any thread to process $i-th$ job.\n",
    "\n",
    "The times are given in the same order as they are in the list from which threads take jobs.\n",
    "\n",
    "Threads are indexed starting from 0\n",
    "\n",
    "### Constrains.\n",
    "$1 \\le n \\le 10^5\\ ;\\ 1 \\le m \\le 10^5 \\ ;\\ 0 \\le t_i \\le 10^9. $\n",
    "\n",
    "### Output format.\n",
    "Output exactly $m$ lines. $i-th$ line (0-based index is used) should contain two space-separated integers - the 0-based index of the thread which will process the i-th job and the time in seconds when it will start processing that job.\n",
    "\n",
    "### Sample output:\n",
    "\n",
    "        input: \n",
    "            2 5\n",
    "            1 2 3 4 5\n",
    "        output \n",
    "            0 0\n",
    "            1 0\n",
    "            0 1\n",
    "            1 2\n",
    "            0 4\n",
    "\n"
   ],
   "cell_type": "markdown",
   "metadata": {}
  },
  {
   "source": [
    "# My approach \n",
    "\n",
    "In this problem, I see that we can ultilize the build_heap function which is implemented in **Problem 1**, so I developed into a Priority Queue using the exact same mechanism. \n",
    "\n",
    "After we have the priority class, we also need to create a Worker class which represents the Thread, this class have 2 attributes: id and nextfreetime. ID is the the id of the worker, nextfreetime is the time that this worker will be free. \n",
    "\n",
    "What's special about this class is that I have built buildt-in functions to compare different objects in the same class. Since we want to put these objects into the Priority Queue, we need to compare it efficiently. The **__lt__()** and **__gt__()** are the magic functions in python which let us to do so. All we need to do is modified these functions.\n",
    "\n",
    "Finally we need a function to process the parallel works. This function will iterate the jobs list, for each job we pop out the worker with the lowest priority (min heap is used in this case) which indicates that it free enough to take the next job. All the sortings will be done by Priority Queue. The complexity of this function is O(n) where n is the jobs"
   ],
   "cell_type": "markdown",
   "metadata": {}
  },
  {
   "cell_type": "code",
   "execution_count": 316,
   "metadata": {},
   "outputs": [],
   "source": [
    "class PriorityQ(object):\n",
    "    \"\"\" This class is just a part of Priority queue. There are some of the functions will not be optimized. It lack of Change priority function and sometimes the sift_up won't work as expect \n",
    "        There are two mode, max heap and min heap in this class\n",
    "    \"\"\"\n",
    "    def __init__(self,mode='min'):\n",
    "        self.lst = lst=[]\n",
    "        self.heap = self.build_heap()\n",
    "        self.mode = mode\n",
    "    # find the indexes of parent, left child and right child\n",
    "    def parent(self,i):\n",
    "        return (i-1)//2\n",
    "    def left_child(self,i):\n",
    "        return 2*i+1\n",
    "    def right_child(self,i):\n",
    "        return 2*i+2\n",
    "    \n",
    "    def insert(self,val):\n",
    "        self.heap.append(val)\n",
    "        self.sift_up(len(self.heap)-1,self.heap)\n",
    "    def extract(self):\n",
    "        self.heap[0],self.heap[-1] = self.heap[-1],self.heap[0] # swap the root with the lowest children\n",
    "        result = self.heap.pop() # pop out the value with highest priority\n",
    "        self.sift_down(0,self.heap) # sift down just in case the root is not correct\n",
    "        return result\n",
    "    def sift_up(self,i,H):\n",
    "        if self.mode == 'min':\n",
    "            while i>=1 and H[self.parent(i)] > H[i]:\n",
    "                H[self.parent(i)],H[i] = H[i],H[self.parent(i)]\n",
    "                i = self.parent(i)\n",
    "        elif self.mode =='max':\n",
    "            while i>=1 and H[self.parent(i)] < H[i]:\n",
    "                H[self.parent(i)],H[i] = H[i],H[self.parent(i)]\n",
    "                i = self.parent(i)            \n",
    "    def sift_down(self,i,H):\n",
    "        max_idx = i\n",
    "        try:\n",
    "            l = self.left_child(i)\n",
    "            if self.mode == 'min':\n",
    "                if l <= len(H) and H[l] < H[max_idx]:\n",
    "                    max_idx = l\n",
    "            elif self.mode == 'max':\n",
    "                if l <= len(H) and H[l] > H[max_idx]:\n",
    "                    max_idx = l\n",
    "        except:\n",
    "            pass\n",
    "        try:\n",
    "            r = self.right_child(i)\n",
    "            if self.mode == 'min':\n",
    "                if r <= len(H) and H[r] < H[max_idx]:\n",
    "                    max_idx = r\n",
    "            elif self.mode == 'max':\n",
    "                if r <= len(H) and H[r] > H[max_idx]:\n",
    "                    max_idx = r\n",
    "        except:\n",
    "            pass\n",
    "        if i != max_idx:\n",
    "            H[i],H[max_idx] = H[max_idx],H[i]\n",
    "            self.sift_down(max_idx,H)\n",
    "\n",
    "    def build_heap(self):\n",
    "        n = len(self.lst)\n",
    "        H = self.lst\n",
    "        for i in reversed(range(n//2)):\n",
    "            self.sift_down(i,H)\n",
    "        return H\n",
    "    def print_heap(self): \n",
    "        print(self.heap)"
   ]
  },
  {
   "source": [
    "## Test Queue"
   ],
   "cell_type": "markdown",
   "metadata": {}
  },
  {
   "cell_type": "code",
   "execution_count": null,
   "metadata": {},
   "outputs": [],
   "source": [
    "class Worker(object):\n",
    "    def __init__(self,id):\n",
    "        self.id = id \n",
    "        self.nextfreetime = 0\n",
    "    def __lt__(self,other): # build < operation \n",
    "        if self.nextfreetime == other.nextfreetime:\n",
    "            return self.id < other.id\n",
    "        else:\n",
    "            return (self.nextfreetime < other.nextfreetime)\n",
    "    def __gt__(self, other): # build > operation\n",
    "        if self.nextfreetime == other.nextfreetime:\n",
    "            return (self.id > other.id)\n",
    "        else:\n",
    "            return (self.nextfreetime > other.nextfreetime)\n",
    "    def __eq__(self, other): # build = operation\n",
    "        return self.nextfreetime == other.nextfreetime         \n"
   ]
  },
  {
   "cell_type": "code",
   "execution_count": 306,
   "metadata": {},
   "outputs": [],
   "source": [
    "n,t = open(\"C:/Users/default.DESKTOP-IU77C8K/Desktop/github/Data-structrure/week2_priority_queues_and_disjoint_sets/2_job_queue/tests/02\", 'r')\n",
    "workers=int(n.split()[0])\n",
    "jobs=list(map(int,t.split()))"
   ]
  },
  {
   "cell_type": "code",
   "execution_count": 309,
   "metadata": {},
   "outputs": [
    {
     "output_type": "execute_result",
     "data": {
      "text/plain": [
       "100"
      ]
     },
     "metadata": {},
     "execution_count": 309
    }
   ],
   "source": [
    "len(jobs)"
   ]
  },
  {
   "cell_type": "code",
   "execution_count": 317,
   "metadata": {},
   "outputs": [],
   "source": [
    "def parallel_processing(workers,jobs):\n",
    "    worker_list = [None]*len(jobs)\n",
    "    start_time_list = [None]*len(jobs)\n",
    "    PQ = PriorityQ()\n",
    "    for i in range(workers):\n",
    "        w = Worker(i)\n",
    "        PQ.insert(w)\n",
    "    for j in range(len(jobs)):\n",
    "        worker=PQ.extract()\n",
    "        worker_list[j]=worker.id\n",
    "        start_time_list[j]=worker.nextfreetime\n",
    "        worker.nextfreetime+=jobs[j]\n",
    "        PQ.insert(worker)\n",
    "    for k in range(len(jobs)):\n",
    "        print(\"worker, nextimejob:  \",worker_list[k],start_time_list[k] )"
   ]
  },
  {
   "cell_type": "code",
   "execution_count": 318,
   "metadata": {},
   "outputs": [],
   "source": [
    "w = 4\n",
    "j = [1, 1, 1, 1, 1, 1, 1, 1, 1, 1, 1, 1, 1, 1, 1, 1, 1, 1, 1, 1]"
   ]
  },
  {
   "cell_type": "code",
   "execution_count": 320,
   "metadata": {},
   "outputs": [
    {
     "output_type": "stream",
     "name": "stdout",
     "text": [
      "worker, nextimejob:   0 0\nworker, nextimejob:   1 0\nworker, nextimejob:   2 0\nworker, nextimejob:   3 0\nworker, nextimejob:   0 1\nworker, nextimejob:   1 1\nworker, nextimejob:   2 1\nworker, nextimejob:   3 1\nworker, nextimejob:   0 2\nworker, nextimejob:   1 2\nworker, nextimejob:   2 2\nworker, nextimejob:   3 2\nworker, nextimejob:   0 3\nworker, nextimejob:   1 3\nworker, nextimejob:   2 3\nworker, nextimejob:   3 3\nworker, nextimejob:   0 4\nworker, nextimejob:   1 4\nworker, nextimejob:   2 4\nworker, nextimejob:   3 4\n"
     ]
    }
   ],
   "source": [
    "parallel_processing(w,j)"
   ]
  },
  {
   "cell_type": "code",
   "execution_count": 321,
   "metadata": {},
   "outputs": [],
   "source": [
    "w = 2\n",
    "j = [1,2,3,4,5]"
   ]
  },
  {
   "cell_type": "code",
   "execution_count": 322,
   "metadata": {},
   "outputs": [
    {
     "output_type": "stream",
     "name": "stdout",
     "text": [
      "worker, nextimejob:   0 0\nworker, nextimejob:   1 0\nworker, nextimejob:   0 1\nworker, nextimejob:   1 2\nworker, nextimejob:   0 4\n"
     ]
    }
   ],
   "source": [
    "parallel_processing(w,j)"
   ]
  },
  {
   "cell_type": "code",
   "execution_count": 315,
   "metadata": {
    "tags": []
   },
   "outputs": [
    {
     "output_type": "stream",
     "name": "stdout",
     "text": [
      "worker, nextimejob:   0 0\nworker, nextimejob:   1 0\nworker, nextimejob:   2 0\nworker, nextimejob:   3 0\nworker, nextimejob:   4 0\nworker, nextimejob:   5 0\nworker, nextimejob:   6 0\nworker, nextimejob:   7 0\nworker, nextimejob:   8 0\nworker, nextimejob:   9 0\nworker, nextimejob:   7 28787989\nworker, nextimejob:   0 124860658\nworker, nextimejob:   5 235543106\nworker, nextimejob:   7 246504708\nworker, nextimejob:   4 311346104\nworker, nextimejob:   3 349021732\nworker, nextimejob:   1 388437511\nworker, nextimejob:   9 409836312\nworker, nextimejob:   3 595181715\nworker, nextimejob:   9 619331540\nworker, nextimejob:   6 665655446\nworker, nextimejob:   8 706718118\nworker, nextimejob:   1 707425685\nworker, nextimejob:   2 753484620\nworker, nextimejob:   5 845266823\nworker, nextimejob:   0 882135358\nworker, nextimejob:   0 1030418770\nworker, nextimejob:   7 1127475443\nworker, nextimejob:   0 1226053489\nworker, nextimejob:   1 1239139577\nworker, nextimejob:   4 1283739291\nworker, nextimejob:   8 1294605118\nworker, nextimejob:   6 1439488110\nworker, nextimejob:   5 1448354598\nworker, nextimejob:   3 1449889884\nworker, nextimejob:   2 1488265968\nworker, nextimejob:   8 1492349613\nworker, nextimejob:   1 1543303433\nworker, nextimejob:   8 1552026381\nworker, nextimejob:   1 1559345794\nworker, nextimejob:   9 1564932477\nworker, nextimejob:   6 1700692640\nworker, nextimejob:   8 1762133312\nworker, nextimejob:   9 1785403332\nworker, nextimejob:   9 1812712043\nworker, nextimejob:   4 1837912198\nworker, nextimejob:   0 1923308283\nworker, nextimejob:   8 1925648764\nworker, nextimejob:   2 1951684676\nworker, nextimejob:   8 2051689774\nworker, nextimejob:   5 2089663653\nworker, nextimejob:   7 2096109190\nworker, nextimejob:   8 2100522306\nworker, nextimejob:   3 2222963076\nworker, nextimejob:   0 2320394874\nworker, nextimejob:   4 2343014119\nworker, nextimejob:   6 2347796988\nworker, nextimejob:   4 2405752997\nworker, nextimejob:   1 2461343674\nworker, nextimejob:   8 2507700390\nworker, nextimejob:   0 2563144828\nworker, nextimejob:   9 2649050912\nworker, nextimejob:   2 2656370100\nworker, nextimejob:   6 2792825301\nworker, nextimejob:   1 2831769133\nworker, nextimejob:   9 2930053292\nworker, nextimejob:   7 2936370273\nworker, nextimejob:   3 2946336306\nworker, nextimejob:   5 3033959396\nworker, nextimejob:   0 3104934106\nworker, nextimejob:   8 3114837717\nworker, nextimejob:   4 3140480513\nworker, nextimejob:   2 3205065638\nworker, nextimejob:   2 3236887517\nworker, nextimejob:   2 3282959311\nworker, nextimejob:   0 3306478249\nworker, nextimejob:   3 3363648528\nworker, nextimejob:   8 3408035489\nworker, nextimejob:   4 3439090637\nworker, nextimejob:   6 3444003346\nworker, nextimejob:   1 3470199591\nworker, nextimejob:   5 3480453036\nworker, nextimejob:   0 3490305631\nworker, nextimejob:   1 3506565968\nworker, nextimejob:   7 3585123350\nworker, nextimejob:   0 3618937640\nworker, nextimejob:   0 3638771343\nworker, nextimejob:   2 3792650094\nworker, nextimejob:   4 3815595208\nworker, nextimejob:   5 3884584250\nworker, nextimejob:   9 3911731663\nworker, nextimejob:   8 3932551852\nworker, nextimejob:   5 3943003928\nworker, nextimejob:   5 3992901123\nworker, nextimejob:   1 4042282164\nworker, nextimejob:   7 4055834901\nworker, nextimejob:   9 4086865161\nworker, nextimejob:   0 4155619221\nworker, nextimejob:   5 4181243134\nworker, nextimejob:   6 4192821467\n"
     ]
    }
   ],
   "source": [
    "parallel_processing(workers,jobs)"
   ]
  }
 ]
}