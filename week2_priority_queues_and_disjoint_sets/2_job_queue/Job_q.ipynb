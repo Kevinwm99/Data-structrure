{
 "metadata": {
  "language_info": {
   "codemirror_mode": {
    "name": "ipython",
    "version": 3
   },
   "file_extension": ".py",
   "mimetype": "text/x-python",
   "name": "python",
   "nbconvert_exporter": "python",
   "pygments_lexer": "ipython3",
   "version": "3.6.10-final"
  },
  "orig_nbformat": 2,
  "kernelspec": {
   "name": "Python 3.6.10 64-bit ('phu': conda)",
   "display_name": "Python 3.6.10 64-bit ('phu': conda)",
   "metadata": {
    "interpreter": {
     "hash": "93567997320a41260cba541b0b0fc558b64d7e06ab3ccf74c021b635184135f0"
    }
   }
  }
 },
 "nbformat": 4,
 "nbformat_minor": 2,
 "cells": [
  {
   "cell_type": "code",
   "execution_count": 107,
   "metadata": {},
   "outputs": [],
   "source": [
    "class PriorityQ(object):\n",
    "    def __init__(self, lst=[]):\n",
    "        self.lst = lst\n",
    "        self.heap = self.build_heap()\n",
    "\n",
    "    def parent(self,i):\n",
    "        return (i-1)//2\n",
    "    def left_child(self,i):\n",
    "        return 2*i+1\n",
    "    def right_child(self,i):\n",
    "        return 2*i+2\n",
    "    \n",
    "    def insert(self,val):\n",
    "        self.heap.append(val)\n",
    "        self.sift_up(len(self.heap)-1,self.heap)\n",
    "    def extractMax(self):\n",
    "        self.heap[0],self.heap[-1] = self.heap[-1],self.heap[0]\n",
    "        result = self.heap.pop()\n",
    "        self.sift_down(0,self.heap)\n",
    "        return result\n",
    "    def change_priority(i,p):\n",
    "        pass\n",
    "\n",
    "    def sift_up(self,i,H):\n",
    "        while i>1 and H[self.parent(i)] < H[i]:\n",
    "            H[self.parent(i)],H[i] = H[i],H[self.parent(i)]\n",
    "            i = self.parent(i)\n",
    "\n",
    "    def sift_down(self,i,H):\n",
    "        max_idx = i\n",
    "        try:\n",
    "            l = self.left_child(i)\n",
    "            if l <= len(H) and H[l] > H[max_idx]:\n",
    "                max_idx = l\n",
    "        except:\n",
    "            pass\n",
    "        try:\n",
    "            r = self.right_child(i)\n",
    "            if r <= len(H) and H[r] > H[max_idx]:\n",
    "                max_idx = r\n",
    "        except:\n",
    "            pass\n",
    "        if i != max_idx:\n",
    "            H[i],H[max_idx] = H[max_idx],H[i]\n",
    "            print(\"swap: \", i,max_idx)\n",
    "            print( \"heap\", H)\n",
    "            self.sift_down(max_idx,H)\n",
    "\n",
    "    def build_heap(self):\n",
    "        n = len(self.lst)\n",
    "        H = self.lst\n",
    "        for i in reversed(range(n//2)):\n",
    "            self.sift_down(i,H)\n",
    "        return H\n",
    "    def print_heap(self):\n",
    "        print(self.heap)"
   ]
  },
  {
   "cell_type": "code",
   "execution_count": 108,
   "metadata": {
    "tags": []
   },
   "outputs": [
    {
     "output_type": "stream",
     "name": "stdout",
     "text": "swap:  1 3\nheap [1, 5, 3, 2, 4]\nswap:  0 1\nheap [5, 1, 3, 2, 4]\nswap:  1 4\nheap [5, 4, 3, 2, 1]\n[5, 4, 3, 2, 1]\n"
    }
   ],
   "source": [
    "H = [5, 4, 3, 2, 1]\n",
    "K = [1, 2, 3, 5, 4]\n",
    "p = PriorityQ(K)\n",
    "p.print_heap()"
   ]
  },
  {
   "cell_type": "code",
   "execution_count": 109,
   "metadata": {
    "tags": []
   },
   "outputs": [
    {
     "output_type": "stream",
     "name": "stdout",
     "text": "[5, 4, 3, 2, 1, -1]\n"
    }
   ],
   "source": [
    "p.insert(-1)\n",
    "p.print_heap()"
   ]
  },
  {
   "cell_type": "code",
   "execution_count": 110,
   "metadata": {},
   "outputs": [],
   "source": [
    "p.insert(9)"
   ]
  },
  {
   "cell_type": "code",
   "execution_count": 111,
   "metadata": {
    "tags": []
   },
   "outputs": [
    {
     "output_type": "stream",
     "name": "stdout",
     "text": "[9, 4, 5, 2, 1, -1, 3]\n"
    }
   ],
   "source": [
    "p.print_heap()"
   ]
  },
  {
   "cell_type": "code",
   "execution_count": 112,
   "metadata": {
    "tags": []
   },
   "outputs": [
    {
     "output_type": "stream",
     "name": "stdout",
     "text": "swap:  0 2\nheap [5, 4, 3, 2, 1, -1]\n[5, 4, 3, 2, 1, -1]\n"
    }
   ],
   "source": [
    "v=p.extractMax()\n",
    "p.print_heap()"
   ]
  }
 ]
}